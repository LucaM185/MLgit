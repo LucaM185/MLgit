{
 "cells": [
  {
   "cell_type": "code",
   "execution_count": 45,
   "metadata": {},
   "outputs": [],
   "source": [
    "import torch\n",
    "import torch.nn as nn\n",
    "import torch.nn.functional as F\n",
    "\n",
    "device = torch.device(\"cuda:0\" if torch.cuda.is_available() else \"cpu\")"
   ]
  },
  {
   "cell_type": "code",
   "execution_count": 46,
   "metadata": {},
   "outputs": [
    {
     "data": {
      "text/plain": [
       "torch.Size([999980, 21])"
      ]
     },
     "execution_count": 46,
     "metadata": {},
     "output_type": "execute_result"
    }
   ],
   "source": [
    "# Load the dataset\n",
    "text = open('train.txt', 'r').read()[:1000000]\n",
    "texttoint = {ch:i for i,ch in enumerate(sorted(set(text)))}\n",
    "inttotext = {i:ch for i,ch in enumerate(sorted(set(text)))}\n",
    "tokens = [texttoint[ch] for ch in text]\n",
    "\n",
    "seq_len = 20\n",
    "data = torch.tensor([tokens[i:i+seq_len+1] for i in range(len(tokens)-seq_len)])\n",
    "\n",
    "data.shape"
   ]
  },
  {
   "cell_type": "code",
   "execution_count": 47,
   "metadata": {},
   "outputs": [
    {
     "data": {
      "text/plain": [
       "110"
      ]
     },
     "execution_count": 47,
     "metadata": {},
     "output_type": "execute_result"
    }
   ],
   "source": [
    "len(texttoint)"
   ]
  },
  {
   "cell_type": "code",
   "execution_count": 51,
   "metadata": {},
   "outputs": [],
   "source": [
    "# split train test validation\n",
    "\n",
    "train_data = data[:int(0.9*len(data))]\n",
    "val_data = data[int(0.9*len(data)):int(0.95*len(data))]\n",
    "test_data = data[int(0.95*len(data)):]\n",
    "\n",
    "X = train_data[:,:-1].to(device)\n",
    "y = train_data[:,-1].to(device)\n",
    "\n",
    "X_val = val_data[:,:-1].to(device)\n",
    "y_val = val_data[:,-1].to(device)\n",
    "\n",
    "X_test = test_data[:,:-1].to(device)\n",
    "y_test = test_data[:,-1].to(device)\n"
   ]
  },
  {
   "cell_type": "code",
   "execution_count": 75,
   "metadata": {},
   "outputs": [],
   "source": [
    "# define transformer model  \n",
    "\n",
    "class Model(nn.Module):\n",
    "    def __init__(self):\n",
    "        super(Model, self).__init__()\n",
    "        \n",
    "        embed_dim = 16\n",
    "        vocab_size = len(texttoint)\n",
    "        self.kqv_dim = 16\n",
    "\n",
    "        # input will be [B, T] - long \n",
    "        self.embed = nn.Embedding(vocab_size, embed_dim) # [B, T, D] - float\n",
    "        self.pos_embed = nn.Embedding(seq_len, embed_dim)\n",
    "\n",
    "        self.values = nn.Linear(embed_dim, self.kqv_dim)\n",
    "        self.keys = nn.Linear(embed_dim, self.kqv_dim)\n",
    "        self.queries = nn.Linear(embed_dim, self.kqv_dim)\n",
    "\n",
    "        self.fc1 = nn.Linear(seq_len*self.kqv_dim, 200)\n",
    "        self.layernorm1 = nn.LayerNorm(200)\n",
    "        self.fc2 = nn.Linear(200, 200)\n",
    "        self.layernorm2 = nn.LayerNorm(200)\n",
    "        self.fc3 = nn.Linear(200, vocab_size)\n",
    "\n",
    "    def forward(self, x):\n",
    "        batch_size = x.shape[0]\n",
    "        \n",
    "        pos = self.pos_embed(torch.arange(seq_len).to(device))\n",
    "        x = self.embed(x) + pos\n",
    "        \n",
    "        # K, Q, V\n",
    "        values = self.values(x)\n",
    "        keys = self.keys(x)\n",
    "        queries = self.queries(x)\n",
    "        \n",
    "        # Attention\n",
    "        attention = torch.matmul(queries, keys.transpose(-2,-1))\n",
    "        attention = F.softmax(attention, dim=-1)\n",
    "        attention = torch.matmul(attention, values)\n",
    "        \n",
    "        # Mask \n",
    "        attention = torch.tril(attention)\n",
    "        attention[attention==0] = float('-inf')\n",
    "        attention = attention.softmax(dim=-1)\n",
    "        \n",
    "        # Feed Forward\n",
    "        x = self.fc1(attention.view(batch_size, seq_len*self.kqv_dim))\n",
    "        x = self.layernorm1(x)\n",
    "        x = F.gelu(x)\n",
    "        x = self.fc2(x)\n",
    "        x = self.layernorm2(x)\n",
    "        x = F.gelu(x)\n",
    "        x = self.fc3(x)\n",
    "        return x\n",
    "    \n",
    "\n",
    "Net = Model().to(device)\n",
    "lossi = []\n"
   ]
  },
  {
   "cell_type": "code",
   "execution_count": 76,
   "metadata": {},
   "outputs": [
    {
     "name": "stdout",
     "output_type": "stream",
     "text": [
      "Epoch 1/1000 loss: 4.7238\n",
      "Epoch 2/1000 loss: 4.6843\n",
      "Epoch 3/1000 loss: 4.5011\n",
      "Epoch 4/1000 loss: 4.2533\n",
      "Epoch 5/1000 loss: 4.3008\n",
      "Epoch 6/1000 loss: 4.1969\n",
      "Epoch 7/1000 loss: 4.0796\n",
      "Epoch 8/1000 loss: 4.3827\n",
      "Epoch 9/1000 loss: 4.0660\n",
      "Epoch 10/1000 loss: 3.8590\n",
      "Epoch 981/1000 loss: 2.9286\n",
      "Epoch 982/1000 loss: 3.2625\n",
      "Epoch 983/1000 loss: 2.9510\n",
      "Epoch 984/1000 loss: 3.1307\n",
      "Epoch 985/1000 loss: 2.7194\n",
      "Epoch 986/1000 loss: 3.2270\n",
      "Epoch 987/1000 loss: 2.7341\n",
      "Epoch 988/1000 loss: 2.7602\n",
      "Epoch 989/1000 loss: 2.3248\n",
      "Epoch 990/1000 loss: 3.1527\n",
      "Epoch 991/1000 loss: 2.7657\n",
      "Epoch 992/1000 loss: 2.7118\n",
      "Epoch 993/1000 loss: 2.9529\n",
      "Epoch 994/1000 loss: 2.5668\n",
      "Epoch 995/1000 loss: 2.9292\n",
      "Epoch 996/1000 loss: 2.7997\n",
      "Epoch 997/1000 loss: 3.1265\n",
      "Epoch 998/1000 loss: 2.3324\n",
      "Epoch 999/1000 loss: 2.7861\n",
      "Epoch 1000/1000 loss: 2.8639\n"
     ]
    }
   ],
   "source": [
    "# train model\n",
    "\n",
    "optimizer = torch.optim.Adam(Net.parameters(), lr=3e-4)\n",
    "criterion = nn.CrossEntropyLoss()\n",
    "\n",
    "epochs = 1000\n",
    "batch_size = 32\n",
    "\n",
    "for epoch in range(epochs):\n",
    "    indexes = torch.randint(len(X), (batch_size, ))\n",
    "\n",
    "    batch_X = X[indexes]\n",
    "    batch_y = y[indexes]\n",
    "    #outputs = Net(F.one_hot(batch_X))\n",
    "    outputs = Net(batch_X)\n",
    "    loss = criterion(outputs, batch_y)\n",
    "    lossi.append(loss.item())\n",
    "\n",
    "    loss.backward()\n",
    "    optimizer.step()\n",
    "    optimizer.zero_grad()\n",
    "\n",
    "    print(f'Epoch {epoch+1}/{epochs} loss: {loss.item():.4f}')\n"
   ]
  },
  {
   "cell_type": "code",
   "execution_count": 77,
   "metadata": {},
   "outputs": [
    {
     "data": {
      "text/plain": [
       "[<matplotlib.lines.Line2D at 0x2b560a9d310>]"
      ]
     },
     "execution_count": 77,
     "metadata": {},
     "output_type": "execute_result"
    },
    {
     "data": {
      "image/png": "[encoded data removed]",
      "text/plain": [
       "<Figure size 432x288 with 1 Axes>"
      ]
     },
     "metadata": {
      "needs_background": "light"
     },
     "output_type": "display_data"
    }
   ],
   "source": [
    "import matplotlib.pyplot as plt\n",
    "\n",
    "plt.plot(lossi)"
   ]
  },
  {
   "cell_type": "code",
   "execution_count": 68,
   "metadata": {},
   "outputs": [],
   "source": [
    "# validate on test set"
   ]
  },
  {
   "cell_type": "code",
   "execution_count": 15,
   "metadata": {},
   "outputs": [
    {
     "data": {
      "text/plain": [
       "tensor([51, 91, 16, 63, 61, 14, 62, 74, 19, 71, 28, 16, 21, 97, 12, 33,  2, 44,\n",
       "        60, 15, 47, 33, 77, 76, 52,  4, 39, 57, 27, 24, 92, 27, 18, 75,  1, 36,\n",
       "        80, 66, 95, 27, 64, 77,  0, 94, 53, 94, 74, 44, 20, 60, 78, 97, 10, 81,\n",
       "        29, 21, 98, 14, 18, 25, 15, 57,  9, 41, 36, 57, 37, 97, 68, 89, 66, 87,\n",
       "        56, 15, 49, 27, 33, 57, 34, 40, 13, 92, 55, 32, 83, 35, 18, 69, 46, 11,\n",
       "        16, 15, 70, 11,  0, 64, 81, 20, 67, 43, 17, 35, 13, 71, 41, 59,  6, 57,\n",
       "        43,  9, 59,  4, 41, 91, 14, 66, 51, 59, 74, 14,  8, 95, 84, 69, 37, 32,\n",
       "        91, 58, 62, 19, 49, 14, 50, 32, 69, 41,  8, 97, 70, 48, 12, 32, 85, 84,\n",
       "        69, 41, 46, 27,  7, 32, 82, 18, 95,  2, 52, 83, 41, 90, 62, 43, 72, 45,\n",
       "        99, 33,  2,  0, 97, 53, 18, 75, 54,  2, 51,  0, 17, 78, 32, 23, 46, 39,\n",
       "        78,  9, 25, 48, 27, 70, 51, 81, 46, 24, 80, 82, 65, 89,  8, 50,  6, 54,\n",
       "        70, 50])"
      ]
     },
     "execution_count": 15,
     "metadata": {},
     "output_type": "execute_result"
    }
   ],
   "source": [
    "torch.randint(100, (200,))\n",
    "\n"
   ]
  }
 ],
 "metadata": {
  "kernelspec": {
   "display_name": "base",
   "language": "python",
   "name": "python3"
  },
  "language_info": {
   "codemirror_mode": {
    "name": "ipython",
    "version": 3
   },
   "file_extension": ".py",
   "mimetype": "text/x-python",
   "name": "python",
   "nbconvert_exporter": "python",
   "pygments_lexer": "ipython3",
   "version": "3.9.7"
  }
 },
 "nbformat": 4,
 "nbformat_minor": 2
}
