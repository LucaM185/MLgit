{
  "nbformat": 4,
  "nbformat_minor": 0,
  "metadata": {
    "colab": {
      "provenance": [],
      "gpuType": "T4",
      "authorship_tag": "ABX9TyO+CZUhsJw+1YsLj2ciWEQ2",
      "include_colab_link": true
    },
    "kernelspec": {
      "name": "python3",
      "display_name": "Python 3"
    },
    "language_info": {
      "name": "python"
    },
    "accelerator": "GPU"
  },
  "cells": [
    {
      "cell_type": "markdown",
      "metadata": {
        "id": "view-in-github",
        "colab_type": "text"
      },
      "source": [
        "<a href=\"https://colab.research.google.com/github/LucaM185/MLgit/blob/main/AttentionBlock.ipynb\" target=\"_parent\"><img src=\"https://colab.research.google.com/assets/colab-badge.svg\" alt=\"Open In Colab\"/></a>"
      ]
    },
    {
      "cell_type": "code",
      "execution_count": 2,
      "metadata": {
        "colab": {
          "base_uri": "https://localhost:8080/"
        },
        "id": "_HcfvntQNxHB",
        "outputId": "11cb3e83-1165-488d-e17c-754f04bb101a"
      },
      "outputs": [
        {
          "output_type": "stream",
          "name": "stdout",
          "text": [
            "--2023-11-23 15:30:09--  https://raw.githubusercontent.com/karpathy/char-rnn/master/data/tinyshakespeare/input.txt\n",
            "Resolving raw.githubusercontent.com (raw.githubusercontent.com)... 185.199.108.133, 185.199.109.133, 185.199.110.133, ...\n",
            "Connecting to raw.githubusercontent.com (raw.githubusercontent.com)|185.199.108.133|:443... connected.\n",
            "HTTP request sent, awaiting response... 200 OK\n",
            "Length: 1115394 (1.1M) [text/plain]\n",
            "Saving to: ‘dataset.txt’\n",
            "\n",
            "dataset.txt         100%[===================>]   1.06M  --.-KB/s    in 0.05s   \n",
            "\n",
            "2023-11-23 15:30:09 (21.5 MB/s) - ‘dataset.txt’ saved [1115394/1115394]\n",
            "\n"
          ]
        }
      ],
      "source": [
        "!wget -O dataset.txt https://raw.githubusercontent.com/karpathy/char-rnn/master/data/tinyshakespeare/input.txt\n"
      ]
    },
    {
      "cell_type": "code",
      "source": [
        "import requests\n",
        "import gzip\n",
        "import shutil\n",
        "\n",
        "# https://openlibrary.org/developers/dumps\n",
        "url = \"https://openlibrary.org/data/ol_dump_authors_latest.txt.gz\"\n",
        "\n",
        "file_path = \"ol_dump_editions_latest.txt.gz\"\n",
        "\n",
        "response = requests.get(url, stream=True)\n",
        "with open(file_path, \"wb\") as file:\n",
        "    shutil.copyfileobj(response.raw, file, length=16*1024*1024)  # Increase buffer size\n",
        "\n",
        "unpacked_file_path = \"dataset.txt\"\n",
        "with gzip.open(file_path, \"rb\") as gz_file:\n",
        "    with open(unpacked_file_path, \"wb\") as file:\n",
        "        shutil.copyfileobj(gz_file, file)\n",
        "\n",
        "## Its going to take around a minute for 500 MB\n"
      ],
      "metadata": {
        "colab": {
          "base_uri": "https://localhost:8080/",
          "height": 391
        },
        "id": "QtBTXOpOm8Z3",
        "outputId": "11f4182f-5327-4b4d-d39c-be2420ee86a7"
      },
      "execution_count": 2,
      "outputs": [
        {
          "output_type": "error",
          "ename": "KeyboardInterrupt",
          "evalue": "ignored",
          "traceback": [
            "\u001b[0;31m---------------------------------------------------------------------------\u001b[0m",
            "\u001b[0;31mKeyboardInterrupt\u001b[0m                         Traceback (most recent call last)",
            "\u001b[0;32m<ipython-input-2-6a99a9878c17>\u001b[0m in \u001b[0;36m<cell line: 11>\u001b[0;34m()\u001b[0m\n\u001b[1;32m     10\u001b[0m \u001b[0mresponse\u001b[0m \u001b[0;34m=\u001b[0m \u001b[0mrequests\u001b[0m\u001b[0;34m.\u001b[0m\u001b[0mget\u001b[0m\u001b[0;34m(\u001b[0m\u001b[0murl\u001b[0m\u001b[0;34m,\u001b[0m \u001b[0mstream\u001b[0m\u001b[0;34m=\u001b[0m\u001b[0;32mTrue\u001b[0m\u001b[0;34m)\u001b[0m\u001b[0;34m\u001b[0m\u001b[0;34m\u001b[0m\u001b[0m\n\u001b[1;32m     11\u001b[0m \u001b[0;32mwith\u001b[0m \u001b[0mopen\u001b[0m\u001b[0;34m(\u001b[0m\u001b[0mfile_path\u001b[0m\u001b[0;34m,\u001b[0m \u001b[0;34m\"wb\"\u001b[0m\u001b[0;34m)\u001b[0m \u001b[0;32mas\u001b[0m \u001b[0mfile\u001b[0m\u001b[0;34m:\u001b[0m\u001b[0;34m\u001b[0m\u001b[0;34m\u001b[0m\u001b[0m\n\u001b[0;32m---> 12\u001b[0;31m     \u001b[0mshutil\u001b[0m\u001b[0;34m.\u001b[0m\u001b[0mcopyfileobj\u001b[0m\u001b[0;34m(\u001b[0m\u001b[0mresponse\u001b[0m\u001b[0;34m.\u001b[0m\u001b[0mraw\u001b[0m\u001b[0;34m,\u001b[0m \u001b[0mfile\u001b[0m\u001b[0;34m,\u001b[0m \u001b[0mlength\u001b[0m\u001b[0;34m=\u001b[0m\u001b[0;36m16\u001b[0m\u001b[0;34m*\u001b[0m\u001b[0;36m1024\u001b[0m\u001b[0;34m*\u001b[0m\u001b[0;36m1024\u001b[0m\u001b[0;34m)\u001b[0m  \u001b[0;31m# Increase buffer size\u001b[0m\u001b[0;34m\u001b[0m\u001b[0;34m\u001b[0m\u001b[0m\n\u001b[0m\u001b[1;32m     13\u001b[0m \u001b[0;34m\u001b[0m\u001b[0m\n\u001b[1;32m     14\u001b[0m \u001b[0munpacked_file_path\u001b[0m \u001b[0;34m=\u001b[0m \u001b[0;34m\"dataset.txt\"\u001b[0m\u001b[0;34m\u001b[0m\u001b[0;34m\u001b[0m\u001b[0m\n",
            "\u001b[0;32m/usr/lib/python3.10/shutil.py\u001b[0m in \u001b[0;36mcopyfileobj\u001b[0;34m(fsrc, fdst, length)\u001b[0m\n\u001b[1;32m    193\u001b[0m     \u001b[0mfdst_write\u001b[0m \u001b[0;34m=\u001b[0m \u001b[0mfdst\u001b[0m\u001b[0;34m.\u001b[0m\u001b[0mwrite\u001b[0m\u001b[0;34m\u001b[0m\u001b[0;34m\u001b[0m\u001b[0m\n\u001b[1;32m    194\u001b[0m     \u001b[0;32mwhile\u001b[0m \u001b[0;32mTrue\u001b[0m\u001b[0;34m:\u001b[0m\u001b[0;34m\u001b[0m\u001b[0;34m\u001b[0m\u001b[0m\n\u001b[0;32m--> 195\u001b[0;31m         \u001b[0mbuf\u001b[0m \u001b[0;34m=\u001b[0m \u001b[0mfsrc_read\u001b[0m\u001b[0;34m(\u001b[0m\u001b[0mlength\u001b[0m\u001b[0;34m)\u001b[0m\u001b[0;34m\u001b[0m\u001b[0;34m\u001b[0m\u001b[0m\n\u001b[0m\u001b[1;32m    196\u001b[0m         \u001b[0;32mif\u001b[0m \u001b[0;32mnot\u001b[0m \u001b[0mbuf\u001b[0m\u001b[0;34m:\u001b[0m\u001b[0;34m\u001b[0m\u001b[0;34m\u001b[0m\u001b[0m\n\u001b[1;32m    197\u001b[0m             \u001b[0;32mbreak\u001b[0m\u001b[0;34m\u001b[0m\u001b[0;34m\u001b[0m\u001b[0m\n",
            "\u001b[0;32m/usr/local/lib/python3.10/dist-packages/urllib3/response.py\u001b[0m in \u001b[0;36mread\u001b[0;34m(self, amt, decode_content, cache_content)\u001b[0m\n\u001b[1;32m    877\u001b[0m                 \u001b[0;32mreturn\u001b[0m \u001b[0mself\u001b[0m\u001b[0;34m.\u001b[0m\u001b[0m_decoded_buffer\u001b[0m\u001b[0;34m.\u001b[0m\u001b[0mget\u001b[0m\u001b[0;34m(\u001b[0m\u001b[0mamt\u001b[0m\u001b[0;34m)\u001b[0m\u001b[0;34m\u001b[0m\u001b[0;34m\u001b[0m\u001b[0m\n\u001b[1;32m    878\u001b[0m \u001b[0;34m\u001b[0m\u001b[0m\n\u001b[0;32m--> 879\u001b[0;31m         \u001b[0mdata\u001b[0m \u001b[0;34m=\u001b[0m \u001b[0mself\u001b[0m\u001b[0;34m.\u001b[0m\u001b[0m_raw_read\u001b[0m\u001b[0;34m(\u001b[0m\u001b[0mamt\u001b[0m\u001b[0;34m)\u001b[0m\u001b[0;34m\u001b[0m\u001b[0;34m\u001b[0m\u001b[0m\n\u001b[0m\u001b[1;32m    880\u001b[0m \u001b[0;34m\u001b[0m\u001b[0m\n\u001b[1;32m    881\u001b[0m         \u001b[0mflush_decoder\u001b[0m \u001b[0;34m=\u001b[0m \u001b[0mamt\u001b[0m \u001b[0;32mis\u001b[0m \u001b[0;32mNone\u001b[0m \u001b[0;32mor\u001b[0m \u001b[0;34m(\u001b[0m\u001b[0mamt\u001b[0m \u001b[0;34m!=\u001b[0m \u001b[0;36m0\u001b[0m \u001b[0;32mand\u001b[0m \u001b[0;32mnot\u001b[0m \u001b[0mdata\u001b[0m\u001b[0;34m)\u001b[0m\u001b[0;34m\u001b[0m\u001b[0;34m\u001b[0m\u001b[0m\n",
            "\u001b[0;32m/usr/local/lib/python3.10/dist-packages/urllib3/response.py\u001b[0m in \u001b[0;36m_raw_read\u001b[0;34m(self, amt)\u001b[0m\n\u001b[1;32m    812\u001b[0m \u001b[0;34m\u001b[0m\u001b[0m\n\u001b[1;32m    813\u001b[0m         \u001b[0;32mwith\u001b[0m \u001b[0mself\u001b[0m\u001b[0;34m.\u001b[0m\u001b[0m_error_catcher\u001b[0m\u001b[0;34m(\u001b[0m\u001b[0;34m)\u001b[0m\u001b[0;34m:\u001b[0m\u001b[0;34m\u001b[0m\u001b[0;34m\u001b[0m\u001b[0m\n\u001b[0;32m--> 814\u001b[0;31m             \u001b[0mdata\u001b[0m \u001b[0;34m=\u001b[0m \u001b[0mself\u001b[0m\u001b[0;34m.\u001b[0m\u001b[0m_fp_read\u001b[0m\u001b[0;34m(\u001b[0m\u001b[0mamt\u001b[0m\u001b[0;34m)\u001b[0m \u001b[0;32mif\u001b[0m \u001b[0;32mnot\u001b[0m \u001b[0mfp_closed\u001b[0m \u001b[0;32melse\u001b[0m \u001b[0;34mb\"\"\u001b[0m\u001b[0;34m\u001b[0m\u001b[0;34m\u001b[0m\u001b[0m\n\u001b[0m\u001b[1;32m    815\u001b[0m             \u001b[0;32mif\u001b[0m \u001b[0mamt\u001b[0m \u001b[0;32mis\u001b[0m \u001b[0;32mnot\u001b[0m \u001b[0;32mNone\u001b[0m \u001b[0;32mand\u001b[0m \u001b[0mamt\u001b[0m \u001b[0;34m!=\u001b[0m \u001b[0;36m0\u001b[0m \u001b[0;32mand\u001b[0m \u001b[0;32mnot\u001b[0m \u001b[0mdata\u001b[0m\u001b[0;34m:\u001b[0m\u001b[0;34m\u001b[0m\u001b[0;34m\u001b[0m\u001b[0m\n\u001b[1;32m    816\u001b[0m                 \u001b[0;31m# Platform-specific: Buggy versions of Python.\u001b[0m\u001b[0;34m\u001b[0m\u001b[0;34m\u001b[0m\u001b[0m\n",
            "\u001b[0;32m/usr/local/lib/python3.10/dist-packages/urllib3/response.py\u001b[0m in \u001b[0;36m_fp_read\u001b[0;34m(self, amt)\u001b[0m\n\u001b[1;32m    797\u001b[0m         \u001b[0;32melse\u001b[0m\u001b[0;34m:\u001b[0m\u001b[0;34m\u001b[0m\u001b[0;34m\u001b[0m\u001b[0m\n\u001b[1;32m    798\u001b[0m             \u001b[0;31m# StringIO doesn't like amt=None\u001b[0m\u001b[0;34m\u001b[0m\u001b[0;34m\u001b[0m\u001b[0m\n\u001b[0;32m--> 799\u001b[0;31m             \u001b[0;32mreturn\u001b[0m \u001b[0mself\u001b[0m\u001b[0;34m.\u001b[0m\u001b[0m_fp\u001b[0m\u001b[0;34m.\u001b[0m\u001b[0mread\u001b[0m\u001b[0;34m(\u001b[0m\u001b[0mamt\u001b[0m\u001b[0;34m)\u001b[0m \u001b[0;32mif\u001b[0m \u001b[0mamt\u001b[0m \u001b[0;32mis\u001b[0m \u001b[0;32mnot\u001b[0m \u001b[0;32mNone\u001b[0m \u001b[0;32melse\u001b[0m \u001b[0mself\u001b[0m\u001b[0;34m.\u001b[0m\u001b[0m_fp\u001b[0m\u001b[0;34m.\u001b[0m\u001b[0mread\u001b[0m\u001b[0;34m(\u001b[0m\u001b[0;34m)\u001b[0m\u001b[0;34m\u001b[0m\u001b[0;34m\u001b[0m\u001b[0m\n\u001b[0m\u001b[1;32m    800\u001b[0m \u001b[0;34m\u001b[0m\u001b[0m\n\u001b[1;32m    801\u001b[0m     def _raw_read(\n",
            "\u001b[0;32m/usr/lib/python3.10/http/client.py\u001b[0m in \u001b[0;36mread\u001b[0;34m(self, amt)\u001b[0m\n\u001b[1;32m    464\u001b[0m                 \u001b[0;31m# clip the read to the \"end of response\"\u001b[0m\u001b[0;34m\u001b[0m\u001b[0;34m\u001b[0m\u001b[0m\n\u001b[1;32m    465\u001b[0m                 \u001b[0mamt\u001b[0m \u001b[0;34m=\u001b[0m \u001b[0mself\u001b[0m\u001b[0;34m.\u001b[0m\u001b[0mlength\u001b[0m\u001b[0;34m\u001b[0m\u001b[0;34m\u001b[0m\u001b[0m\n\u001b[0;32m--> 466\u001b[0;31m             \u001b[0ms\u001b[0m \u001b[0;34m=\u001b[0m \u001b[0mself\u001b[0m\u001b[0;34m.\u001b[0m\u001b[0mfp\u001b[0m\u001b[0;34m.\u001b[0m\u001b[0mread\u001b[0m\u001b[0;34m(\u001b[0m\u001b[0mamt\u001b[0m\u001b[0;34m)\u001b[0m\u001b[0;34m\u001b[0m\u001b[0;34m\u001b[0m\u001b[0m\n\u001b[0m\u001b[1;32m    467\u001b[0m             \u001b[0;32mif\u001b[0m \u001b[0;32mnot\u001b[0m \u001b[0ms\u001b[0m \u001b[0;32mand\u001b[0m \u001b[0mamt\u001b[0m\u001b[0;34m:\u001b[0m\u001b[0;34m\u001b[0m\u001b[0;34m\u001b[0m\u001b[0m\n\u001b[1;32m    468\u001b[0m                 \u001b[0;31m# Ideally, we would raise IncompleteRead if the content-length\u001b[0m\u001b[0;34m\u001b[0m\u001b[0;34m\u001b[0m\u001b[0m\n",
            "\u001b[0;32m/usr/lib/python3.10/socket.py\u001b[0m in \u001b[0;36mreadinto\u001b[0;34m(self, b)\u001b[0m\n\u001b[1;32m    703\u001b[0m         \u001b[0;32mwhile\u001b[0m \u001b[0;32mTrue\u001b[0m\u001b[0;34m:\u001b[0m\u001b[0;34m\u001b[0m\u001b[0;34m\u001b[0m\u001b[0m\n\u001b[1;32m    704\u001b[0m             \u001b[0;32mtry\u001b[0m\u001b[0;34m:\u001b[0m\u001b[0;34m\u001b[0m\u001b[0;34m\u001b[0m\u001b[0m\n\u001b[0;32m--> 705\u001b[0;31m                 \u001b[0;32mreturn\u001b[0m \u001b[0mself\u001b[0m\u001b[0;34m.\u001b[0m\u001b[0m_sock\u001b[0m\u001b[0;34m.\u001b[0m\u001b[0mrecv_into\u001b[0m\u001b[0;34m(\u001b[0m\u001b[0mb\u001b[0m\u001b[0;34m)\u001b[0m\u001b[0;34m\u001b[0m\u001b[0;34m\u001b[0m\u001b[0m\n\u001b[0m\u001b[1;32m    706\u001b[0m             \u001b[0;32mexcept\u001b[0m \u001b[0mtimeout\u001b[0m\u001b[0;34m:\u001b[0m\u001b[0;34m\u001b[0m\u001b[0;34m\u001b[0m\u001b[0m\n\u001b[1;32m    707\u001b[0m                 \u001b[0mself\u001b[0m\u001b[0;34m.\u001b[0m\u001b[0m_timeout_occurred\u001b[0m \u001b[0;34m=\u001b[0m \u001b[0;32mTrue\u001b[0m\u001b[0;34m\u001b[0m\u001b[0;34m\u001b[0m\u001b[0m\n",
            "\u001b[0;32m/usr/lib/python3.10/ssl.py\u001b[0m in \u001b[0;36mrecv_into\u001b[0;34m(self, buffer, nbytes, flags)\u001b[0m\n\u001b[1;32m   1272\u001b[0m                   \u001b[0;34m\"non-zero flags not allowed in calls to recv_into() on %s\"\u001b[0m \u001b[0;34m%\u001b[0m\u001b[0;34m\u001b[0m\u001b[0;34m\u001b[0m\u001b[0m\n\u001b[1;32m   1273\u001b[0m                   self.__class__)\n\u001b[0;32m-> 1274\u001b[0;31m             \u001b[0;32mreturn\u001b[0m \u001b[0mself\u001b[0m\u001b[0;34m.\u001b[0m\u001b[0mread\u001b[0m\u001b[0;34m(\u001b[0m\u001b[0mnbytes\u001b[0m\u001b[0;34m,\u001b[0m \u001b[0mbuffer\u001b[0m\u001b[0;34m)\u001b[0m\u001b[0;34m\u001b[0m\u001b[0;34m\u001b[0m\u001b[0m\n\u001b[0m\u001b[1;32m   1275\u001b[0m         \u001b[0;32melse\u001b[0m\u001b[0;34m:\u001b[0m\u001b[0;34m\u001b[0m\u001b[0;34m\u001b[0m\u001b[0m\n\u001b[1;32m   1276\u001b[0m             \u001b[0;32mreturn\u001b[0m \u001b[0msuper\u001b[0m\u001b[0;34m(\u001b[0m\u001b[0;34m)\u001b[0m\u001b[0;34m.\u001b[0m\u001b[0mrecv_into\u001b[0m\u001b[0;34m(\u001b[0m\u001b[0mbuffer\u001b[0m\u001b[0;34m,\u001b[0m \u001b[0mnbytes\u001b[0m\u001b[0;34m,\u001b[0m \u001b[0mflags\u001b[0m\u001b[0;34m)\u001b[0m\u001b[0;34m\u001b[0m\u001b[0;34m\u001b[0m\u001b[0m\n",
            "\u001b[0;32m/usr/lib/python3.10/ssl.py\u001b[0m in \u001b[0;36mread\u001b[0;34m(self, len, buffer)\u001b[0m\n\u001b[1;32m   1128\u001b[0m         \u001b[0;32mtry\u001b[0m\u001b[0;34m:\u001b[0m\u001b[0;34m\u001b[0m\u001b[0;34m\u001b[0m\u001b[0m\n\u001b[1;32m   1129\u001b[0m             \u001b[0;32mif\u001b[0m \u001b[0mbuffer\u001b[0m \u001b[0;32mis\u001b[0m \u001b[0;32mnot\u001b[0m \u001b[0;32mNone\u001b[0m\u001b[0;34m:\u001b[0m\u001b[0;34m\u001b[0m\u001b[0;34m\u001b[0m\u001b[0m\n\u001b[0;32m-> 1130\u001b[0;31m                 \u001b[0;32mreturn\u001b[0m \u001b[0mself\u001b[0m\u001b[0;34m.\u001b[0m\u001b[0m_sslobj\u001b[0m\u001b[0;34m.\u001b[0m\u001b[0mread\u001b[0m\u001b[0;34m(\u001b[0m\u001b[0mlen\u001b[0m\u001b[0;34m,\u001b[0m \u001b[0mbuffer\u001b[0m\u001b[0;34m)\u001b[0m\u001b[0;34m\u001b[0m\u001b[0;34m\u001b[0m\u001b[0m\n\u001b[0m\u001b[1;32m   1131\u001b[0m             \u001b[0;32melse\u001b[0m\u001b[0;34m:\u001b[0m\u001b[0;34m\u001b[0m\u001b[0;34m\u001b[0m\u001b[0m\n\u001b[1;32m   1132\u001b[0m                 \u001b[0;32mreturn\u001b[0m \u001b[0mself\u001b[0m\u001b[0;34m.\u001b[0m\u001b[0m_sslobj\u001b[0m\u001b[0;34m.\u001b[0m\u001b[0mread\u001b[0m\u001b[0;34m(\u001b[0m\u001b[0mlen\u001b[0m\u001b[0;34m)\u001b[0m\u001b[0;34m\u001b[0m\u001b[0;34m\u001b[0m\u001b[0m\n",
            "\u001b[0;31mKeyboardInterrupt\u001b[0m: "
          ]
        }
      ]
    },
    {
      "cell_type": "code",
      "source": [
        "import torch\n",
        "import torch.nn as nn\n",
        "import torch.nn.functional as F\n",
        "import matplotlib.pyplot as plt\n",
        "from tqdm import tqdm"
      ],
      "metadata": {
        "id": "WiMo--TVOhjC"
      },
      "execution_count": 3,
      "outputs": []
    },
    {
      "cell_type": "code",
      "source": [
        "with open(\"dataset.txt\", \"r\") as f:\n",
        "    text = f.read()\n",
        "print(text[:300])"
      ],
      "metadata": {
        "colab": {
          "base_uri": "https://localhost:8080/"
        },
        "id": "H4aXykcVOkHo",
        "outputId": "d70fade4-7cc5-4280-b766-d070ba7d8599"
      },
      "execution_count": 4,
      "outputs": [
        {
          "output_type": "stream",
          "name": "stdout",
          "text": [
            "First Citizen:\n",
            "Before we proceed any further, hear me speak.\n",
            "\n",
            "All:\n",
            "Speak, speak.\n",
            "\n",
            "First Citizen:\n",
            "You are all resolved rather to die than to famish?\n",
            "\n",
            "All:\n",
            "Resolved. resolved.\n",
            "\n",
            "First Citizen:\n",
            "First, you know Caius Marcius is chief enemy to the people.\n",
            "\n",
            "All:\n",
            "We know't, we know't.\n",
            "\n",
            "First Citizen:\n",
            "Let us\n"
          ]
        }
      ]
    },
    {
      "cell_type": "code",
      "source": [
        "load = text[:30000000]"
      ],
      "metadata": {
        "id": "B6rERrBdq3yI"
      },
      "execution_count": 5,
      "outputs": []
    },
    {
      "cell_type": "code",
      "source": [
        "texttoint = {elm: n for n, elm in enumerate(set(load))}\n",
        "inttotext = {n:elm for n, elm in enumerate(set(load))}\n",
        "dataset = [texttoint[c] for c in load]\n",
        "device = torch.device(\"cuda:0\")\n",
        "\n",
        "sequence_length = 16\n",
        "X = torch.tensor(dataset)\n",
        "# nn.ModuleDict"
      ],
      "metadata": {
        "id": "4i9JBOGeO-DG"
      },
      "execution_count": 6,
      "outputs": []
    },
    {
      "cell_type": "code",
      "source": [
        "class FullyConnected(nn.Module):\n",
        "    def __init__(self, config):\n",
        "        super().__init__()\n",
        "        self.config = config\n",
        "\n",
        "        self.fc1 = nn.Linear(sequence_length*config.head_size*config.n_heads, 200)\n",
        "        self.LayerNorm1 = nn.LayerNorm(200)\n",
        "        self.fc2 = nn.Linear(200, 200)\n",
        "        self.LayerNorm2 = nn.LayerNorm(200)\n",
        "        self.out = nn.Linear(200, config.vocab_size)\n",
        "\n",
        "    def forward(self, x):\n",
        "        x = x.view(x.shape[0], sequence_length*self.config.head_size*self.config.n_heads)\n",
        "        x = F.gelu(self.fc1(x))\n",
        "        x = self.LayerNorm1(x)\n",
        "        x = F.gelu(self.fc2(x))\n",
        "        x = self.LayerNorm2(x)\n",
        "        x = self.out(x)\n",
        "        return x\n",
        "\n",
        "class Attention(nn.Module):\n",
        "    def __init__(self, config):\n",
        "        super().__init__()\n",
        "        self.config = config\n",
        "\n",
        "        self.pemb = nn.Embedding(sequence_length, config.emb_size)\n",
        "        self.wemb = nn.Embedding(config.vocab_size, config.emb_size)\n",
        "\n",
        "        self.keys = nn.Linear(config.emb_size, config.head_size)\n",
        "        self.queries = nn.Linear(config.emb_size, config.head_size)\n",
        "        self.values = nn.Linear(config.emb_size, config.head_size)\n",
        "\n",
        "    def forward(self, data):\n",
        "        # embeddings\n",
        "        pemb = self.pemb(torch.arange(sequence_length).to(device)).view(1, sequence_length, self.config.emb_size) # [time, emb_size]\n",
        "        wemb = self.wemb(data)        # [Batch_size, time, emb_size]\n",
        "\n",
        "        embeddings = wemb + pemb\n",
        "\n",
        "        # attention\n",
        "        k = self.keys(embeddings)     # [Batch_size, time, head_size]\n",
        "        q = self.queries(embeddings)  # [Batch_size, time, head_size]\n",
        "        v = self.values(embeddings)   # [Batch_size, time, head_size]\n",
        "\n",
        "        similarity = k @ q.transpose(-2, -1)/(self.config.head_size**0.5)\n",
        "        similarity = torch.tril(similarity)  # [Batch_size, time, time]\n",
        "        similarity[similarity == 0] = float(\"-inf\")\n",
        "        similarity = torch.softmax(similarity, dim = 1)\n",
        "        attention = similarity @ v    # [Batch_size, time, head_size]\n",
        "        return attention\n",
        "\n",
        "class GPTconfig():\n",
        "    pass\n",
        "\n",
        "\n",
        "class Model(nn.Module):\n",
        "    def __init__(self):\n",
        "        super().__init__()\n",
        "\n",
        "        config = GPTconfig()\n",
        "        config.vocab_size = X.max() + 1\n",
        "        config.head_size = 20\n",
        "        config.emb_size = 25\n",
        "        config.n_heads = 1\n",
        "        self.config = config\n",
        "\n",
        "        self.att = nn.ModuleList([Attention(config) for i in range(config.n_heads)])\n",
        "        self.fc = FullyConnected(config)\n",
        "\n",
        "\n",
        "    def forward(self, x):  # inputs: [Batch_size, time, vocab_size]\n",
        "\n",
        "        batch_size = x.shape[0]\n",
        "        x = x.to(device)\n",
        "\n",
        "        x = torch.cat([attention(x) for attention in self.att]).view(batch_size, self.config.head_size*self.config.n_heads*sequence_length)\n",
        "        x = self.fc(x)\n",
        "\n",
        "        return x\n",
        "\n",
        "\n",
        "Net = Model().to(device)\n",
        "lossi = []\n",
        "print(\"Millions of parameters: \", round(sum(p.numel() for p in Net.parameters() if p.requires_grad)/1000000, 2))"
      ],
      "metadata": {
        "colab": {
          "base_uri": "https://localhost:8080/"
        },
        "id": "uFgYBnvsN7gL",
        "outputId": "5c087faf-8d06-4784-edfe-06fab8b31510"
      },
      "execution_count": 10,
      "outputs": [
        {
          "output_type": "stream",
          "name": "stdout",
          "text": [
            "Millions of parameters:  0.12\n"
          ]
        }
      ]
    },
    {
      "cell_type": "code",
      "source": [
        "%%time\n",
        "epochs = 1500\n",
        "batch_size = 50\n",
        "print(\"Percent of dataset: \", epochs*batch_size / X.shape[0])\n",
        "\n",
        "optimizer = torch.optim.Adam(Net.parameters(), lr=3e-4)\n",
        "\n",
        "for epoch in tqdm(range(epochs)):\n",
        "    indexes = torch.randint(len(dataset)-sequence_length-2, (batch_size, )).repeat(sequence_length).view(sequence_length, batch_size).T + torch.arange(sequence_length)\n",
        "\n",
        "    pred = Net(X[indexes].to(device))\n",
        "    loss = F.cross_entropy(pred, (X[indexes[:, -1] + 1]).to(device))\n",
        "    lossi.append(loss.item())\n",
        "\n",
        "    loss.backward()\n",
        "    optimizer.step()\n",
        "    optimizer.zero_grad()\n"
      ],
      "metadata": {
        "id": "y9l7mQjGXvi_",
        "colab": {
          "base_uri": "https://localhost:8080/"
        },
        "outputId": "d1626828-865f-4b9a-f4b5-65086f004dc9"
      },
      "execution_count": 11,
      "outputs": [
        {
          "output_type": "stream",
          "name": "stdout",
          "text": [
            "Percent of dataset:  0.06724081356005143\n"
          ]
        },
        {
          "output_type": "stream",
          "name": "stderr",
          "text": [
            "100%|██████████| 1500/1500 [00:06<00:00, 248.06it/s]"
          ]
        },
        {
          "output_type": "stream",
          "name": "stdout",
          "text": [
            "CPU times: user 5.54 s, sys: 130 ms, total: 5.67 s\n",
            "Wall time: 6.05 s\n"
          ]
        },
        {
          "output_type": "stream",
          "name": "stderr",
          "text": [
            "\n"
          ]
        }
      ]
    },
    {
      "cell_type": "code",
      "source": [
        "plt.plot(lossi[:])"
      ],
      "metadata": {
        "colab": {
          "base_uri": "https://localhost:8080/",
          "height": 447
        },
        "id": "-NyBckuBZG_6",
        "outputId": "49138a50-16b1-4a42-8c13-e0f33470893e"
      },
      "execution_count": 12,
      "outputs": [
        {
          "output_type": "execute_result",
          "data": {
            "text/plain": [
              "[<matplotlib.lines.Line2D at 0x7db29e4fd090>]"
            ]
          },
          "metadata": {},
          "execution_count": 12
        },
        {
          "output_type": "display_data",
          "data": {
            "text/plain": [
              "<Figure size 640x480 with 1 Axes>"
            ],
            "image/png": "[encoded data removed]"
          },
          "metadata": {}
        }
      ]
    },
    {
      "cell_type": "code",
      "source": [
        "torch.tensor(lossi[-100:]).mean() # Best: 1.23 / 1.66"
      ],
      "metadata": {
        "colab": {
          "base_uri": "https://localhost:8080/"
        },
        "id": "oHZbCKLwbzCq",
        "outputId": "9e65ee33-6329-4aa8-b574-a651db1f687e"
      },
      "execution_count": 13,
      "outputs": [
        {
          "output_type": "execute_result",
          "data": {
            "text/plain": [
              "tensor(2.3090)"
            ]
          },
          "metadata": {},
          "execution_count": 13
        }
      ]
    },
    {
      "cell_type": "code",
      "source": [
        "# LAYERNORM IS CRAZY IMPORTANT"
      ],
      "metadata": {
        "id": "YNCIn4KHmITi"
      },
      "execution_count": 14,
      "outputs": []
    },
    {
      "cell_type": "code",
      "source": [
        "prompt = \"                       hi, \"\n",
        "\n",
        "for i in range(100):\n",
        "    ints = torch.tensor([texttoint[elm] for elm in prompt[-sequence_length:]])\n",
        "    prompt += inttotext[torch.multinomial(F.softmax(Net(ints.view(1, -1)), dim=1)**2, num_samples=1).item()]\n",
        "    # prompt += inttotext[Net(ints.view(1, -1)).argmax().item()]"
      ],
      "metadata": {
        "id": "7ARnfMT2T-QI"
      },
      "execution_count": 15,
      "outputs": []
    },
    {
      "cell_type": "code",
      "source": [
        "print(prompt)"
      ],
      "metadata": {
        "colab": {
          "base_uri": "https://localhost:8080/"
        },
        "id": "AAZ4anF-UbTJ",
        "outputId": "bde6c55d-6146-467c-f958-2f705a810fec"
      },
      "execution_count": 16,
      "outputs": [
        {
          "output_type": "stream",
          "name": "stdout",
          "text": [
            "                       hi, trom the you man sit st heake st me chern hat st fam he cure not an the fragl,\n",
            "Wo ouelis wis reat so\n"
          ]
        }
      ]
    },
    {
      "cell_type": "code",
      "source": [
        "[i for i in Net.att[0].parameters()]"
      ],
      "metadata": {
        "colab": {
          "base_uri": "https://localhost:8080/"
        },
        "id": "SYtMl1RFVRmw",
        "outputId": "4053f86e-28da-49db-aa7f-b4f5ee22136f"
      },
      "execution_count": 88,
      "outputs": [
        {
          "output_type": "execute_result",
          "data": {
            "text/plain": [
              "[Parameter containing:\n",
              " tensor([[ 1.5619,  0.6218,  0.3209, -1.2173,  1.1372,  0.5329, -0.1240,  0.3764,\n",
              "          -0.6359, -0.4306,  0.3778,  1.4458, -1.9163, -1.2707, -0.5457,  1.4190,\n",
              "          -0.6964,  0.0748,  0.5390,  0.0648,  0.2239, -2.1888,  0.1216, -2.1923,\n",
              "          -1.2689],\n",
              "         [ 0.1838, -0.2107, -0.3673,  0.7873, -0.0768,  1.1750, -0.4967, -0.0461,\n",
              "          -1.3621, -0.4267,  1.2114,  0.1197,  0.8962, -1.5152,  0.3915,  0.0911,\n",
              "           1.0144,  0.3347, -0.9224, -0.8775, -0.6748, -1.1060, -0.0264,  0.4975,\n",
              "           1.9380],\n",
              "         [-0.1169,  0.7184, -0.2843,  0.5812,  0.9150, -0.3875,  0.9016, -0.7153,\n",
              "          -0.1954,  0.3633,  0.2610, -2.5185, -0.2069,  0.3186, -1.4511,  1.1092,\n",
              "           0.7869,  0.2767, -0.1174, -1.6665,  0.9025, -0.0297,  1.6635,  1.3615,\n",
              "          -1.0747],\n",
              "         [-0.5056, -0.0053,  0.1304,  0.1502, -0.5802,  1.0883,  0.8149,  0.0910,\n",
              "          -0.4835, -0.6517,  1.8391, -0.7913, -1.4981,  1.4628,  1.1967, -0.0795,\n",
              "          -1.5780,  0.6447, -0.2584, -0.8279,  1.3338, -0.6041,  0.1276,  0.3337,\n",
              "          -0.9111],\n",
              "         [-0.0414, -0.1934,  0.3898, -0.9254,  1.0200, -0.5877, -0.2000, -1.2347,\n",
              "           0.4179,  1.9784, -0.6235,  0.1414, -2.0303,  0.4204, -0.6176,  0.2899,\n",
              "          -0.3184, -0.2781,  0.2879, -0.1033,  0.6449, -2.1473,  1.1736,  0.3918,\n",
              "          -0.4435],\n",
              "         [-0.0268,  0.8040,  1.2615, -2.6172,  1.9346, -1.5839, -0.3646,  0.4964,\n",
              "           0.6926, -0.4244, -0.5742,  0.5636,  0.6825, -0.3718, -0.1233,  2.2276,\n",
              "           1.6759, -1.7833, -0.6182,  0.3808,  0.1726,  1.2342,  0.4275,  0.5964,\n",
              "          -1.3508],\n",
              "         [ 0.7773, -0.6370, -1.3215,  0.6379, -1.1502, -0.1730,  0.4572, -0.3301,\n",
              "           0.2714,  1.6186, -0.2359, -0.0461, -0.3022,  1.0654, -0.0862,  0.1411,\n",
              "           0.2805, -1.1608,  0.3491,  0.1192, -0.0398,  0.3500,  1.2511,  0.5773,\n",
              "          -0.8521],\n",
              "         [-0.2712, -0.1991,  1.8311,  1.1065,  1.1590, -0.0831, -1.4363, -1.5242,\n",
              "          -0.2050, -0.1816,  1.6192, -0.0745, -0.8996,  0.3112,  1.1229, -0.3993,\n",
              "          -0.3602, -0.4633, -0.3123,  0.3873, -0.0833, -2.0125, -0.1905,  0.0149,\n",
              "           0.7927],\n",
              "         [ 0.6785,  2.4750,  0.3316, -1.8052,  0.3589,  0.0202,  0.2835, -0.4303,\n",
              "           0.9407,  2.7055,  0.3221,  0.5278,  0.4477, -0.9770, -0.9982, -0.1642,\n",
              "           1.5447,  1.4224, -0.4707, -2.3479, -0.4702,  0.1133, -0.9875,  1.5149,\n",
              "          -0.6294],\n",
              "         [ 2.7899,  0.3138, -1.1251,  0.7038,  1.6732,  1.2870, -1.7854, -1.1852,\n",
              "           0.2397, -1.1409,  0.1832,  0.3827, -0.5746,  0.7211,  0.0535, -0.5872,\n",
              "          -0.3470, -0.8528,  0.2950, -0.4076, -0.5949,  0.3284,  0.6152,  0.3311,\n",
              "          -1.9560],\n",
              "         [ 0.7963, -0.5982, -0.8317, -1.4242,  1.7349,  1.2340,  0.0099,  0.6518,\n",
              "          -1.1295, -0.9735, -1.1038,  1.1735, -0.9071, -0.2160,  2.2335, -0.1837,\n",
              "          -0.2788, -0.2282,  0.4698,  0.7136, -0.0227, -0.8589,  0.0594, -1.8396,\n",
              "          -0.2521],\n",
              "         [ 2.4821, -1.4943,  0.1575, -0.9708, -0.7750,  0.4533, -0.3744,  0.0715,\n",
              "          -0.0693,  0.6122, -0.3237,  1.2223,  0.4597,  0.6619, -0.6877, -1.2285,\n",
              "           0.5815, -0.4736, -0.4177,  2.2146,  0.4894, -0.8291, -0.5260, -0.5305,\n",
              "          -0.6878],\n",
              "         [ 0.1461, -0.5649,  0.5664, -0.1351, -1.6414, -0.7872, -0.9603, -0.1627,\n",
              "          -2.7750,  1.3972,  0.6034, -0.6457,  0.9016, -1.4616,  1.8578,  0.8361,\n",
              "           1.6681, -1.0584,  1.8892,  0.7066,  0.4291,  0.8474, -0.5880, -0.0508,\n",
              "           0.1247],\n",
              "         [ 0.6109, -1.1124,  1.6091, -0.3621, -0.5459,  0.5261, -0.6254, -0.2547,\n",
              "          -0.8576,  1.6140, -2.1843, -0.1524, -1.5765,  1.5790,  1.5749,  0.6942,\n",
              "          -0.1832,  0.6362,  0.7088,  0.0764,  0.2412, -1.5452,  0.4711,  0.7845,\n",
              "          -1.6012],\n",
              "         [ 0.6021, -0.3922,  1.4456,  0.1300, -1.0928,  2.2573, -2.2466,  0.4502,\n",
              "           0.2107,  0.2053,  0.6265,  1.2968,  0.1535, -1.3276, -1.9659,  2.7344,\n",
              "          -1.4733,  0.1364,  0.5097,  1.3702, -0.3171, -0.3311, -0.3358, -0.1650,\n",
              "           1.7028],\n",
              "         [ 0.8023,  1.0330,  0.1759, -1.0176,  0.2850, -0.5151, -0.1726, -0.7964,\n",
              "          -1.2247, -0.2683, -1.5240,  0.2173,  0.2150, -0.2271, -0.8939,  1.3252,\n",
              "           1.1825,  0.9444,  0.9209,  1.0565,  0.3068,  0.1571,  1.4978,  1.6380,\n",
              "          -0.3863]], device='cuda:0', requires_grad=True),\n",
              " Parameter containing:\n",
              " tensor([[ 0.3199,  0.2774,  0.9638,  ...,  0.4831, -1.3325,  0.3489],\n",
              "         [-0.7368,  0.1111,  1.9117,  ...,  0.6623,  0.4899,  0.1283],\n",
              "         [ 1.6600, -0.8161,  1.3015,  ..., -1.1605, -0.4857,  0.3206],\n",
              "         ...,\n",
              "         [ 1.6537, -0.8556, -0.4686,  ...,  0.4288, -0.1475,  0.7448],\n",
              "         [ 0.2141,  0.5531, -0.2468,  ..., -0.9315,  0.1735, -1.5261],\n",
              "         [-0.3752,  0.3777,  0.5695,  ..., -0.0123,  1.4954, -1.1540]],\n",
              "        device='cuda:0', requires_grad=True),\n",
              " Parameter containing:\n",
              " tensor([[ 1.7684e-01, -2.3106e-01, -3.6981e-02,  1.6267e-01,  1.5596e-01,\n",
              "          -2.1623e-01, -1.8908e-01,  9.4383e-02, -1.7212e-01, -1.1741e-01,\n",
              "          -2.1534e-02, -1.2285e-01,  2.2870e-02, -8.1595e-02, -3.4731e-02,\n",
              "          -1.7572e-01, -2.1252e-01, -6.8015e-02, -6.5250e-02,  8.9299e-02,\n",
              "          -5.0364e-02,  5.6081e-02,  3.1202e-02,  4.8317e-02, -9.9985e-02],\n",
              "         [ 4.9472e-02,  1.3219e-01, -1.4662e-02,  1.5779e-01,  2.8475e-02,\n",
              "           6.9671e-02, -2.2686e-01,  5.7316e-02, -1.3431e-01,  8.4662e-02,\n",
              "          -7.8959e-02, -1.6423e-01,  1.5810e-01,  1.1819e-01,  1.6770e-01,\n",
              "          -5.4687e-02,  8.0256e-02,  1.5970e-01,  1.3320e-01, -1.0022e-01,\n",
              "           1.0704e-01, -1.0111e-01,  2.0207e-01, -1.3993e-01, -1.1558e-02],\n",
              "         [-1.5200e-01, -1.6257e-03,  5.7638e-02, -8.1360e-02,  1.6708e-01,\n",
              "           8.1059e-02,  3.1770e-02, -1.9983e-02, -3.9761e-02,  1.6690e-01,\n",
              "           9.8347e-02,  1.6405e-01, -1.1579e-02, -3.7924e-02,  1.7696e-01,\n",
              "           5.1552e-02,  3.2848e-02,  1.6887e-01,  3.5250e-03,  1.2750e-01,\n",
              "           2.0918e-01,  1.4269e-01, -1.8532e-01, -9.1526e-03,  1.0505e-01],\n",
              "         [ 7.6149e-02, -2.3425e-02, -6.0414e-02, -1.1155e-01, -1.6063e-02,\n",
              "           2.0864e-02, -4.4532e-02, -7.6263e-02, -2.0632e-02, -1.2693e-01,\n",
              "           6.6124e-02,  1.1584e-01, -9.5963e-02,  3.3476e-02,  3.0850e-02,\n",
              "           6.9863e-02, -1.4615e-01, -1.6309e-01, -1.0126e-01,  9.5176e-02,\n",
              "           6.3629e-02, -1.2013e-01,  9.1064e-02, -6.2844e-03,  1.8971e-01],\n",
              "         [-1.5874e-01,  8.5295e-03, -1.9316e-01, -1.5405e-01,  1.5716e-01,\n",
              "          -1.3000e-01,  2.1837e-02, -1.1574e-01, -1.3818e-01, -2.4885e-02,\n",
              "           7.1744e-02,  1.2867e-01,  1.0939e-01,  2.0491e-02,  7.6399e-03,\n",
              "           5.8244e-02, -1.0769e-01,  3.6088e-02, -2.1005e-01,  8.4356e-02,\n",
              "           4.6505e-02,  7.1924e-02, -2.1168e-01,  9.3109e-02, -6.3900e-02],\n",
              "         [-1.1443e-01,  2.9452e-02, -1.5777e-02, -3.2017e-02,  1.7183e-02,\n",
              "           1.1578e-02,  1.3998e-01, -1.4358e-01, -1.3350e-02, -1.2991e-01,\n",
              "           1.2699e-01, -9.1278e-02,  7.7241e-02,  7.6630e-02,  2.8179e-02,\n",
              "           1.1443e-01,  8.5567e-02, -1.2480e-01,  1.2359e-01, -1.3644e-01,\n",
              "          -5.9611e-02, -2.4832e-02,  1.5161e-01,  1.1978e-02, -1.6853e-01],\n",
              "         [-1.1413e-01,  1.2551e-01,  7.9468e-03,  8.1731e-02,  2.4240e-02,\n",
              "           4.6534e-02, -7.9626e-02,  3.8589e-03, -1.2551e-01, -2.5344e-02,\n",
              "           1.4938e-02, -2.0261e-01, -9.3842e-02,  6.1713e-03,  1.2144e-01,\n",
              "          -1.1593e-01, -1.1752e-01, -6.0656e-02, -5.9348e-02,  1.5385e-01,\n",
              "           1.4557e-03, -1.2872e-01, -1.5720e-02,  1.7620e-01, -5.8933e-02],\n",
              "         [ 1.7162e-01,  1.7651e-01, -1.2306e-02,  2.3068e-03, -4.5852e-02,\n",
              "          -1.1041e-01, -1.0334e-01, -1.2440e-01, -4.0529e-02,  4.7684e-02,\n",
              "           9.1869e-03,  1.4479e-01, -8.3643e-02, -1.0081e-01, -1.3707e-02,\n",
              "           9.4232e-02,  2.3719e-01, -2.5118e-03, -1.4152e-01,  1.5023e-02,\n",
              "           1.8289e-01,  5.7596e-02, -1.0094e-01, -7.7376e-02, -3.7923e-02],\n",
              "         [-3.9796e-02, -1.0935e-01,  1.8143e-02, -6.1980e-02, -6.5199e-02,\n",
              "           8.7444e-02,  2.1013e-01,  7.2980e-04,  4.9183e-02, -4.5064e-02,\n",
              "          -1.0246e-01,  8.9813e-02,  1.3961e-01,  2.5426e-02,  1.6199e-02,\n",
              "          -6.1808e-02,  2.0609e-02,  8.7935e-02,  8.8615e-02, -7.2700e-02,\n",
              "           1.4205e-01,  1.6378e-01, -7.2774e-02,  1.3477e-01,  1.1029e-01],\n",
              "         [-1.6936e-01, -1.4822e-01, -9.0634e-02,  2.3472e-02,  1.5653e-01,\n",
              "           8.4652e-03, -6.8245e-02,  4.7290e-02,  3.0396e-02, -1.1039e-01,\n",
              "           1.3597e-01, -1.4744e-01, -1.0113e-01, -1.4619e-01, -1.6344e-01,\n",
              "          -1.5133e-01, -1.0776e-01,  1.5258e-01,  5.8813e-02,  1.2298e-01,\n",
              "          -1.8283e-01,  1.3854e-01, -9.6813e-02, -5.7132e-02,  1.6078e-01],\n",
              "         [ 1.8481e-01,  1.5124e-01, -1.6008e-02, -1.0210e-01,  5.6328e-02,\n",
              "           1.3662e-01,  2.6997e-02, -1.3101e-01, -1.7978e-01,  9.5325e-02,\n",
              "           1.2035e-01, -5.7802e-02, -1.3437e-01,  1.6272e-01,  6.4400e-02,\n",
              "          -7.7876e-02,  9.2370e-02, -1.1106e-01,  1.1073e-02, -1.8060e-01,\n",
              "           8.1465e-02,  6.3746e-02,  1.0984e-01,  1.3091e-01, -9.9817e-02],\n",
              "         [-1.0716e-01, -8.3259e-02, -1.7246e-01, -6.0247e-02,  1.5507e-01,\n",
              "           1.1901e-01, -1.1752e-01, -2.6756e-03, -1.4445e-01, -1.4143e-01,\n",
              "          -1.5428e-01, -1.7301e-01, -6.6583e-03,  2.7779e-02, -5.4970e-02,\n",
              "          -1.3318e-01,  1.2697e-01,  4.7070e-02,  6.7054e-02,  9.6731e-02,\n",
              "          -1.2266e-02,  2.1008e-01, -1.0939e-01,  1.3935e-01, -1.5984e-01],\n",
              "         [-1.1263e-01, -3.0410e-02, -9.6400e-04,  3.1531e-02, -5.5167e-02,\n",
              "           9.3677e-02,  1.4413e-01, -8.8917e-02, -6.0693e-03,  3.2867e-02,\n",
              "           9.1274e-02,  8.2334e-02, -3.3328e-02,  1.0322e-01,  7.6955e-02,\n",
              "           3.0292e-02,  1.3951e-01, -6.5097e-02, -3.6680e-02, -1.1509e-01,\n",
              "           2.1882e-01, -5.9199e-02, -3.9509e-02, -1.9455e-03,  8.5260e-02],\n",
              "         [ 7.5357e-02,  2.2662e-02, -2.1293e-01,  1.6937e-01,  3.4291e-03,\n",
              "          -3.1742e-02,  9.9376e-02,  1.2298e-01, -7.8317e-02, -9.6880e-02,\n",
              "           1.2087e-02,  1.1833e-01, -1.7719e-01,  1.2398e-01,  3.2983e-02,\n",
              "           1.1206e-01,  7.9575e-02,  1.6716e-01,  1.6096e-01,  2.5803e-03,\n",
              "           3.9718e-02, -4.2331e-02,  9.9452e-02, -1.3056e-01, -1.9030e-01],\n",
              "         [-2.4414e-05, -6.1126e-02,  8.6169e-02,  7.7470e-03,  8.9992e-03,\n",
              "           7.6467e-02,  1.0481e-01, -1.1267e-01, -1.4594e-01,  4.1246e-03,\n",
              "          -1.5391e-01,  8.3321e-02, -1.7772e-01, -1.4906e-01, -1.5518e-01,\n",
              "           3.4036e-02, -8.1944e-02, -1.1986e-01,  4.1902e-02,  1.5601e-01,\n",
              "           1.0479e-01, -1.6200e-01, -1.1968e-01,  4.4893e-02,  1.8644e-01],\n",
              "         [-7.7972e-02, -1.1458e-01, -1.4407e-01,  1.2176e-01,  2.3683e-02,\n",
              "           1.0028e-01, -1.5438e-01, -4.2452e-02, -1.2694e-01,  1.7610e-01,\n",
              "          -6.3163e-02,  6.0370e-03,  1.1698e-01,  4.7428e-02,  1.7399e-01,\n",
              "          -1.4506e-02,  7.4767e-02,  1.6053e-01, -5.4218e-02, -6.4531e-02,\n",
              "          -1.4004e-01, -1.3066e-01, -1.3121e-03,  4.7640e-02, -1.9522e-01],\n",
              "         [-1.9217e-01,  9.2242e-02, -1.9003e-01,  3.9969e-02, -1.4149e-01,\n",
              "          -1.3569e-01, -6.1102e-03,  1.0299e-01, -5.7758e-02, -1.5062e-01,\n",
              "          -1.5802e-02,  1.8068e-01, -5.7332e-02,  1.8002e-01, -6.9527e-02,\n",
              "          -1.3814e-01,  6.7960e-02, -1.5224e-01,  1.7499e-01,  5.8489e-03,\n",
              "          -8.7481e-02, -1.7056e-01,  1.4887e-02,  1.0330e-01, -9.8588e-02],\n",
              "         [-4.6412e-02, -2.6357e-02, -1.5701e-01,  9.3096e-02, -2.0466e-01,\n",
              "          -4.6438e-02,  1.5895e-01, -5.4151e-02, -4.7498e-02,  1.0393e-02,\n",
              "           9.0432e-02, -3.5346e-02, -1.0772e-01, -1.8225e-01, -1.5157e-01,\n",
              "          -8.2907e-02,  7.8298e-02, -3.2584e-02,  1.5191e-01, -4.4946e-02,\n",
              "           1.9805e-01, -9.0954e-02,  1.0187e-02,  6.2668e-03, -5.8321e-02],\n",
              "         [ 1.7768e-01, -8.6145e-02,  1.2233e-01,  3.8938e-03, -1.2985e-01,\n",
              "           4.5343e-02, -1.2550e-01,  1.7630e-01, -3.1690e-02,  1.3111e-01,\n",
              "           2.2767e-02,  1.4082e-01,  5.4453e-02, -2.2068e-02, -1.0642e-01,\n",
              "          -7.6268e-02, -1.2060e-01,  1.7231e-01,  7.6055e-02,  7.6374e-02,\n",
              "          -1.4274e-01, -2.0253e-02,  1.3647e-02, -1.5652e-01,  3.6140e-02],\n",
              "         [-1.8200e-01,  6.0732e-02,  1.0001e-01, -2.0316e-02, -1.8150e-01,\n",
              "          -6.6637e-02, -1.4617e-01,  5.7673e-02,  2.0050e-01, -6.4433e-02,\n",
              "          -4.9896e-02, -4.0915e-02, -1.6168e-01, -1.0794e-01, -6.8538e-02,\n",
              "          -1.2465e-02,  2.0988e-02, -2.6814e-02, -6.7756e-03, -1.8690e-01,\n",
              "           3.0346e-02, -7.9473e-02, -3.4969e-02, -1.0296e-02, -2.3341e-02]],\n",
              "        device='cuda:0', requires_grad=True),\n",
              " Parameter containing:\n",
              " tensor([ 0.0327,  0.1578,  0.1069,  0.1551,  0.0990, -0.1648, -0.0575, -0.1079,\n",
              "          0.1644,  0.1148,  0.0287,  0.0605,  0.0414, -0.1608, -0.0522, -0.1762,\n",
              "         -0.0155, -0.1389,  0.0826, -0.1544], device='cuda:0',\n",
              "        requires_grad=True),\n",
              " Parameter containing:\n",
              " tensor([[ 0.0588, -0.0514,  0.1589, -0.1459, -0.0690, -0.1300, -0.0430, -0.0533,\n",
              "          -0.1000,  0.0873, -0.1431,  0.1396, -0.1593, -0.0376,  0.2089, -0.0715,\n",
              "           0.0095, -0.1328,  0.0186,  0.0222,  0.1045, -0.1734,  0.0614, -0.0652,\n",
              "           0.0855],\n",
              "         [ 0.0736, -0.0955,  0.0806,  0.2460, -0.0329,  0.0405,  0.0062,  0.1413,\n",
              "           0.0390,  0.1086,  0.2025,  0.1325,  0.0095, -0.0536, -0.0263,  0.0599,\n",
              "          -0.0669, -0.0538,  0.0379, -0.0635, -0.0938,  0.0969, -0.0676, -0.1299,\n",
              "           0.1138],\n",
              "         [-0.0769, -0.1571,  0.0922, -0.0736,  0.0588,  0.1770, -0.0633,  0.1499,\n",
              "          -0.1068, -0.0499,  0.1887, -0.0465,  0.1034,  0.0492,  0.0774, -0.1416,\n",
              "           0.1403, -0.0432, -0.0376, -0.1390,  0.1654, -0.1072,  0.1120,  0.1483,\n",
              "          -0.1590],\n",
              "         [ 0.0653,  0.0975, -0.1472, -0.0055, -0.0243,  0.0775,  0.0901,  0.1334,\n",
              "           0.2055, -0.0364,  0.0218, -0.0036,  0.0685, -0.0681, -0.0295,  0.0481,\n",
              "          -0.0642,  0.1259,  0.1736, -0.0938, -0.0199, -0.0617,  0.2085,  0.0405,\n",
              "           0.0569],\n",
              "         [-0.0189,  0.0278, -0.1094,  0.0137, -0.0891,  0.0298, -0.0668, -0.1379,\n",
              "           0.0875, -0.1026,  0.0108,  0.1314, -0.1051,  0.2105, -0.0490, -0.1152,\n",
              "           0.1026,  0.0985,  0.0783, -0.0237, -0.0085, -0.1718,  0.1486, -0.1566,\n",
              "           0.0706],\n",
              "         [-0.1775, -0.1532, -0.0212, -0.1747,  0.0728,  0.0328,  0.1031, -0.1299,\n",
              "           0.0967, -0.0175, -0.1559,  0.1496,  0.1492, -0.1615,  0.1864,  0.0580,\n",
              "           0.1088, -0.1037, -0.0158,  0.0204, -0.0509, -0.1149,  0.0810, -0.1234,\n",
              "          -0.1538],\n",
              "         [-0.1209,  0.1557,  0.1164, -0.0713, -0.1299,  0.0526, -0.0811,  0.1006,\n",
              "           0.1348,  0.0249,  0.0438, -0.0225,  0.0938,  0.1377, -0.1469,  0.1567,\n",
              "          -0.0128,  0.1362, -0.1291,  0.1897,  0.0341,  0.1576,  0.0588,  0.1543,\n",
              "           0.0628],\n",
              "         [ 0.1104,  0.1307, -0.1557,  0.1149,  0.1412,  0.0977,  0.2355,  0.1663,\n",
              "          -0.0281,  0.0454, -0.0068,  0.0385, -0.1099, -0.1354, -0.1493, -0.2374,\n",
              "          -0.0974, -0.1111,  0.1774,  0.1525,  0.0823,  0.1861,  0.0591,  0.1502,\n",
              "           0.1618],\n",
              "         [-0.0124,  0.1475,  0.1222, -0.1621, -0.1251,  0.0060, -0.0858,  0.0253,\n",
              "           0.2077, -0.0987, -0.0729,  0.0994, -0.0580, -0.0827,  0.1852,  0.0109,\n",
              "           0.1947,  0.1951, -0.0436,  0.0925,  0.0741,  0.0302,  0.0574,  0.1856,\n",
              "           0.0694],\n",
              "         [ 0.0556,  0.0183,  0.0051, -0.1111, -0.1217, -0.0574, -0.0578,  0.1000,\n",
              "          -0.0935, -0.0810,  0.1867, -0.1415, -0.0550, -0.1380, -0.1084, -0.0420,\n",
              "          -0.0877, -0.0914,  0.0352,  0.0918, -0.0545,  0.1620, -0.1879, -0.0481,\n",
              "          -0.0726],\n",
              "         [-0.0040,  0.0784,  0.1460, -0.0987, -0.2044, -0.1688, -0.1675,  0.0252,\n",
              "          -0.0774, -0.1677,  0.1731,  0.1062, -0.0876, -0.1527, -0.0448, -0.1690,\n",
              "           0.0703,  0.0948,  0.0429,  0.0350, -0.0433, -0.1150, -0.1764,  0.0282,\n",
              "           0.0074],\n",
              "         [-0.0492, -0.1211, -0.1309, -0.0940, -0.1403, -0.0059, -0.0459, -0.1934,\n",
              "           0.1551,  0.0650,  0.1636, -0.0645, -0.0740,  0.0707,  0.1523, -0.2125,\n",
              "          -0.0548, -0.1575,  0.0636, -0.1396, -0.1901, -0.1230, -0.0394, -0.0195,\n",
              "          -0.1046],\n",
              "         [ 0.0274,  0.1465, -0.0369,  0.1063,  0.1132,  0.1034, -0.0503,  0.0083,\n",
              "           0.0792, -0.0815,  0.0030, -0.0637, -0.1189,  0.0077,  0.0864, -0.0674,\n",
              "          -0.1552,  0.1267,  0.0897,  0.0792, -0.0074,  0.1092, -0.1020,  0.0053,\n",
              "          -0.0782],\n",
              "         [ 0.0003,  0.0501, -0.0987, -0.0348,  0.0523,  0.0276,  0.1154,  0.1488,\n",
              "           0.0659,  0.0698, -0.0941, -0.1749,  0.0296, -0.1163,  0.2245, -0.1651,\n",
              "           0.0881, -0.0738,  0.0228, -0.0306, -0.1740,  0.1569,  0.0646,  0.0461,\n",
              "          -0.0715],\n",
              "         [-0.1538,  0.1167,  0.0284,  0.0551, -0.0282,  0.0127, -0.1042, -0.0545,\n",
              "          -0.0557,  0.0112, -0.1042,  0.1239,  0.0797, -0.1476,  0.0950, -0.0974,\n",
              "           0.0436, -0.1136, -0.1304,  0.0161, -0.0269, -0.0395, -0.0030, -0.2230,\n",
              "          -0.0851],\n",
              "         [ 0.0406, -0.1491, -0.0970, -0.0043, -0.1445, -0.1344,  0.0236, -0.1737,\n",
              "           0.0137,  0.1244, -0.1439,  0.1365,  0.0879,  0.1010,  0.1506,  0.0056,\n",
              "           0.1162, -0.1140, -0.0025, -0.1024,  0.0575, -0.1366,  0.1643,  0.0015,\n",
              "          -0.1367],\n",
              "         [-0.0736, -0.0817,  0.0016,  0.0730,  0.1625, -0.1199,  0.1481, -0.0195,\n",
              "           0.0866,  0.0285, -0.0535,  0.0218, -0.1348,  0.0468,  0.1013, -0.0056,\n",
              "          -0.1406, -0.1044, -0.1345, -0.0319,  0.1718,  0.1544, -0.2240,  0.1539,\n",
              "           0.1678],\n",
              "         [ 0.1791, -0.0742, -0.1278,  0.1440, -0.1043, -0.0575,  0.1069, -0.0958,\n",
              "          -0.0172,  0.1466,  0.1054, -0.1697,  0.1805,  0.0907, -0.0380,  0.0255,\n",
              "          -0.0053, -0.0730,  0.1261,  0.0952, -0.1716, -0.1355, -0.1423, -0.1370,\n",
              "          -0.1716],\n",
              "         [ 0.0432, -0.0796, -0.0967, -0.0345, -0.1542,  0.1743,  0.0498, -0.1395,\n",
              "           0.0435,  0.0470, -0.0526,  0.0775,  0.0459, -0.0408, -0.0704, -0.1305,\n",
              "          -0.0270,  0.0540,  0.1722,  0.0731, -0.1321,  0.0294,  0.0063,  0.0624,\n",
              "           0.0717],\n",
              "         [-0.0849, -0.0941,  0.1435, -0.1569, -0.0775,  0.1325, -0.0878, -0.0207,\n",
              "           0.0486,  0.1059,  0.1005,  0.1390, -0.1702, -0.0880,  0.1859, -0.1327,\n",
              "           0.0076, -0.1446,  0.0900,  0.1119, -0.0977,  0.0511,  0.0356,  0.0390,\n",
              "          -0.0210]], device='cuda:0', requires_grad=True),\n",
              " Parameter containing:\n",
              " tensor([-0.0901,  0.1694, -0.0648,  0.2042, -0.2315,  0.1231, -0.1127,  0.1495,\n",
              "         -0.1659, -0.0343, -0.0589, -0.0941,  0.0973,  0.1099, -0.1557,  0.1135,\n",
              "          0.1464, -0.0879, -0.0603, -0.0947], device='cuda:0',\n",
              "        requires_grad=True),\n",
              " Parameter containing:\n",
              " tensor([[-0.0343, -0.1398,  0.0150, -0.2141, -0.1336, -0.0405,  0.0213,  0.1034,\n",
              "          -0.1246, -0.1545,  0.0732, -0.1506, -0.0195, -0.0075, -0.0991,  0.0447,\n",
              "          -0.2041,  0.0223,  0.1193,  0.0729, -0.1818, -0.0934,  0.0455, -0.1459,\n",
              "          -0.0731],\n",
              "         [ 0.1169,  0.1057, -0.0879, -0.1319, -0.0983, -0.0072,  0.0499,  0.0447,\n",
              "           0.0712,  0.0771,  0.0475, -0.0218,  0.0129,  0.0169, -0.0697, -0.0576,\n",
              "           0.1193, -0.2026,  0.0741, -0.0754, -0.1489,  0.1364,  0.0653,  0.0789,\n",
              "          -0.1512],\n",
              "         [-0.0832, -0.0179,  0.1356, -0.0444,  0.1902, -0.1348, -0.0850,  0.1462,\n",
              "           0.1739,  0.0445,  0.0557, -0.0385, -0.0338, -0.0595,  0.1255, -0.0267,\n",
              "          -0.1672, -0.1113,  0.0081,  0.1461,  0.1615, -0.1644,  0.0496, -0.0997,\n",
              "          -0.0082],\n",
              "         [ 0.1368, -0.0219,  0.0235,  0.1071, -0.1958,  0.0470,  0.0891,  0.1426,\n",
              "          -0.0037,  0.0838, -0.1143,  0.0599,  0.1686,  0.0593,  0.0407,  0.1126,\n",
              "          -0.0236, -0.1143, -0.0700,  0.0782,  0.2167,  0.0548,  0.1935, -0.0711,\n",
              "          -0.0744],\n",
              "         [-0.0693, -0.1273, -0.2261, -0.1563, -0.0147, -0.0265,  0.1605, -0.1215,\n",
              "           0.0996,  0.0706,  0.1130, -0.0319,  0.1620, -0.0366, -0.1073,  0.0849,\n",
              "          -0.1070,  0.1308, -0.1398,  0.0053,  0.1613, -0.1232,  0.0659,  0.0210,\n",
              "          -0.0962],\n",
              "         [-0.0204, -0.0448,  0.1278, -0.1408,  0.1043,  0.0994,  0.1165, -0.0683,\n",
              "           0.1738, -0.1454,  0.0412, -0.0976,  0.1843,  0.1593, -0.0523,  0.1227,\n",
              "           0.1446, -0.0079,  0.0825, -0.0042, -0.1147,  0.1968,  0.1380,  0.0734,\n",
              "          -0.1317],\n",
              "         [ 0.0033,  0.0965, -0.0895,  0.1789,  0.0412,  0.1521,  0.1960, -0.1922,\n",
              "           0.0161, -0.1230, -0.0686,  0.0027,  0.0357,  0.1457,  0.0256,  0.0772,\n",
              "           0.0458,  0.0545, -0.0237,  0.1563, -0.1121,  0.0127, -0.1619,  0.1628,\n",
              "          -0.1304],\n",
              "         [-0.0674, -0.1905, -0.2037,  0.0191,  0.0274,  0.0831,  0.0791, -0.0732,\n",
              "          -0.1210,  0.1025, -0.1531,  0.0702, -0.0117,  0.0180, -0.1289,  0.1368,\n",
              "          -0.1134, -0.1070,  0.1139,  0.1696, -0.1805,  0.0911,  0.0827,  0.1181,\n",
              "          -0.1846],\n",
              "         [ 0.0140,  0.0305,  0.0344,  0.0203, -0.1351,  0.0895, -0.0698,  0.2043,\n",
              "           0.1558, -0.1142,  0.2072, -0.2156, -0.0895, -0.0849, -0.0059,  0.0356,\n",
              "          -0.1745,  0.0610,  0.1527,  0.1392, -0.0126, -0.0943,  0.0917, -0.0334,\n",
              "           0.1464],\n",
              "         [-0.1476, -0.0165,  0.1271, -0.1768,  0.0265,  0.0754,  0.0940, -0.0447,\n",
              "           0.1579, -0.1100,  0.1173,  0.1194, -0.0888,  0.0236, -0.0355,  0.0581,\n",
              "          -0.0914,  0.0058, -0.1161,  0.0671, -0.1523,  0.1323,  0.1341, -0.2006,\n",
              "          -0.1977],\n",
              "         [-0.0282, -0.1026, -0.0542, -0.0245,  0.0688,  0.0851,  0.0026, -0.1560,\n",
              "          -0.0275, -0.0153,  0.1197, -0.2486, -0.1101,  0.1982, -0.1272,  0.0602,\n",
              "          -0.1599, -0.1737,  0.0221,  0.0133, -0.0413,  0.1309, -0.1508,  0.1527,\n",
              "          -0.1587],\n",
              "         [ 0.0247, -0.0292,  0.0101,  0.0021,  0.0679,  0.1599,  0.1130,  0.1173,\n",
              "           0.0499, -0.2105,  0.0246, -0.0793,  0.1710,  0.0485,  0.1835,  0.1282,\n",
              "           0.1979, -0.0867, -0.0596, -0.0050,  0.1110, -0.0308,  0.0922,  0.1418,\n",
              "           0.1678],\n",
              "         [ 0.0274, -0.0710,  0.1892,  0.1019, -0.0518, -0.1156, -0.0004,  0.1593,\n",
              "           0.0670,  0.1442,  0.1115,  0.0646,  0.2089, -0.1332,  0.0124, -0.2096,\n",
              "          -0.0605, -0.0334, -0.1044,  0.1528, -0.0565, -0.0860,  0.0125,  0.2069,\n",
              "          -0.1568],\n",
              "         [-0.0980, -0.1314,  0.1715,  0.0358, -0.1581, -0.1579, -0.0615, -0.1650,\n",
              "          -0.0386, -0.1337,  0.0887,  0.1189, -0.0129,  0.1261, -0.0746, -0.1722,\n",
              "          -0.0455, -0.0452, -0.2093, -0.0721, -0.0723,  0.0660,  0.0840,  0.0564,\n",
              "           0.1343],\n",
              "         [ 0.0542, -0.1120,  0.1281,  0.0476,  0.0517,  0.0410, -0.0601, -0.1966,\n",
              "          -0.0917, -0.1637, -0.0948,  0.0546,  0.0966, -0.1338,  0.0627, -0.1273,\n",
              "           0.0247, -0.1497, -0.0410,  0.0300, -0.0250, -0.0499,  0.0995, -0.1930,\n",
              "           0.0616],\n",
              "         [-0.0051,  0.1084, -0.1256, -0.0455, -0.0131, -0.0212, -0.2279, -0.1647,\n",
              "           0.0370, -0.0267,  0.0143, -0.0404, -0.2196, -0.0529, -0.1476, -0.1600,\n",
              "          -0.1389, -0.1120, -0.1299,  0.2054,  0.1443,  0.0374, -0.0554,  0.1269,\n",
              "           0.1417],\n",
              "         [ 0.0318, -0.1148, -0.0192, -0.1375, -0.0478, -0.1420, -0.0649,  0.0116,\n",
              "          -0.1461, -0.0161,  0.0863, -0.0505,  0.1332,  0.1158,  0.1984,  0.1796,\n",
              "           0.0278, -0.0856,  0.1151, -0.0853, -0.1008,  0.1144, -0.1065, -0.1898,\n",
              "          -0.2015],\n",
              "         [-0.0594,  0.0168,  0.1542, -0.1959,  0.1404, -0.0748,  0.1946,  0.0175,\n",
              "          -0.2272,  0.1044,  0.0881,  0.0655, -0.1272, -0.0031, -0.0428, -0.1610,\n",
              "           0.0101, -0.1101,  0.0292, -0.0427, -0.0957,  0.0825,  0.0510,  0.1792,\n",
              "          -0.0273],\n",
              "         [ 0.0220, -0.1607,  0.1198,  0.0066,  0.1563, -0.0153,  0.0657, -0.0689,\n",
              "           0.1934,  0.1152, -0.1453, -0.1226,  0.1592,  0.1986,  0.0836,  0.1749,\n",
              "           0.0820, -0.0876, -0.1714,  0.0396, -0.1129, -0.0769, -0.1658,  0.0959,\n",
              "           0.1229],\n",
              "         [-0.0456, -0.1133, -0.0569,  0.1669, -0.0635, -0.1388,  0.0710,  0.0427,\n",
              "           0.1968, -0.1002,  0.1011, -0.1113, -0.1888,  0.0124,  0.0677,  0.1750,\n",
              "           0.0222, -0.0560, -0.0429,  0.1448, -0.0903, -0.1067,  0.1092,  0.1735,\n",
              "           0.0377]], device='cuda:0', requires_grad=True),\n",
              " Parameter containing:\n",
              " tensor([ 0.0103,  0.0685,  0.0909, -0.0833, -0.0133, -0.1574, -0.1297, -0.1335,\n",
              "          0.1274, -0.1787,  0.1349,  0.0680,  0.1468,  0.1478, -0.0409,  0.0968,\n",
              "          0.0534, -0.0350, -0.0315, -0.1454], device='cuda:0',\n",
              "        requires_grad=True)]"
            ]
          },
          "metadata": {},
          "execution_count": 88
        }
      ]
    }
  ]
}