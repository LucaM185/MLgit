{
  "nbformat": 4,
  "nbformat_minor": 0,
  "metadata": {
    "colab": {
      "provenance": [],
      "gpuType": "T4",
      "authorship_tag": "ABX9TyOOw6nzDq9/aTXNLiIW2cjN",
      "include_colab_link": true
    },
    "kernelspec": {
      "name": "python3",
      "display_name": "Python 3"
    },
    "language_info": {
      "name": "python"
    },
    "accelerator": "GPU"
  },
  "cells": [
    {
      "cell_type": "markdown",
      "metadata": {
        "id": "view-in-github",
        "colab_type": "text"
      },
      "source": [
        "<a href=\"https://colab.research.google.com/github/LucaM185/MLgit/blob/main/TransformerMultiHead.ipynb\" target=\"_parent\"><img src=\"https://colab.research.google.com/assets/colab-badge.svg\" alt=\"Open In Colab\"/></a>"
      ]
    },
    {
      "cell_type": "code",
      "execution_count": 1,
      "metadata": {
        "colab": {
          "base_uri": "https://localhost:8080/"
        },
        "id": "_HcfvntQNxHB",
        "outputId": "b700114f-67ed-4535-b523-e1436f7f3c8b"
      },
      "outputs": [
        {
          "output_type": "stream",
          "name": "stdout",
          "text": [
            "--2023-11-22 23:10:58--  https://www.gutenberg.org/cache/epub/11/pg11.txt\n",
            "Resolving www.gutenberg.org (www.gutenberg.org)... 152.19.134.47, 2610:28:3090:3000:0:bad:cafe:47\n",
            "Connecting to www.gutenberg.org (www.gutenberg.org)|152.19.134.47|:443... connected.\n",
            "HTTP request sent, awaiting response... 200 OK\n",
            "Length: 174392 (170K) [text/plain]\n",
            "Saving to: ‘dataset.txt’\n",
            "\n",
            "dataset.txt         100%[===================>] 170.30K   699KB/s    in 0.2s    \n",
            "\n",
            "2023-11-22 23:10:58 (699 KB/s) - ‘dataset.txt’ saved [174392/174392]\n",
            "\n"
          ]
        }
      ],
      "source": [
        "!wget -O dataset.txt https://www.gutenberg.org/cache/epub/11/pg11.txt\n"
      ]
    },
    {
      "cell_type": "code",
      "source": [
        "import torch\n",
        "import torch.nn as nn\n",
        "import torch.nn.functional as F\n",
        "import matplotlib.pyplot as plt"
      ],
      "metadata": {
        "id": "WiMo--TVOhjC"
      },
      "execution_count": 2,
      "outputs": []
    },
    {
      "cell_type": "code",
      "source": [
        "with open(\"dataset.txt\", \"r\") as f:\n",
        "    text = f.read()\n",
        "print(text[:300])"
      ],
      "metadata": {
        "colab": {
          "base_uri": "https://localhost:8080/"
        },
        "id": "H4aXykcVOkHo",
        "outputId": "9a61459d-69ba-4ca6-e4d7-287d36705d7a"
      },
      "execution_count": 3,
      "outputs": [
        {
          "output_type": "stream",
          "name": "stdout",
          "text": [
            "﻿The Project Gutenberg eBook of Alice's Adventures in Wonderland\n",
            "    \n",
            "This ebook is for the use of anyone anywhere in the United States and\n",
            "most other parts of the world at no cost and with almost no restrictions\n",
            "whatsoever. You may copy it, give it away or re-use it under the terms\n",
            "of the Project G\n"
          ]
        }
      ]
    },
    {
      "cell_type": "code",
      "source": [
        "texttoint = {elm: n for n, elm in enumerate(set(text))}\n",
        "inttotext = {n:elm for n, elm in enumerate(set(text))}\n",
        "dataset = [texttoint[c] for c in text]\n",
        "device = torch.device(\"cpu\")\n",
        "\n",
        "sequence_length = 16\n",
        "X = [dataset[i:i+sequence_length+1] for i in range(len(dataset)-sequence_length-1)]\n",
        "X = torch.tensor(X).to(device)\n",
        "y = X[:, -1]\n",
        "X = X[:, :-1]"
      ],
      "metadata": {
        "id": "4i9JBOGeO-DG"
      },
      "execution_count": 4,
      "outputs": []
    },
    {
      "cell_type": "code",
      "source": [
        "class Model(nn.Module):\n",
        "    def __init__(self):\n",
        "        super().__init__()\n",
        "\n",
        "        self.vocab_size = X.max() + 1\n",
        "\n",
        "        self.head_size = 25\n",
        "        self.emb_size = 25\n",
        "\n",
        "        self.pemb = nn.Embedding(sequence_length, self.emb_size)\n",
        "        self.wemb = nn.Embedding(self.vocab_size, self.emb_size)\n",
        "\n",
        "        self.keys = nn.Linear(self.emb_size, self.head_size)\n",
        "        self.queries = nn.Linear(self.emb_size, self.head_size)\n",
        "        self.values = nn.Linear(self.emb_size, self.head_size)\n",
        "\n",
        "        self.fc1 = nn.Linear(sequence_length*self.head_size, 200)\n",
        "        self.LayerNorm1 = nn.LayerNorm(200)\n",
        "        self.fc2 = nn.Linear(200, 200)\n",
        "        self.LayerNorm2 = nn.LayerNorm(200)\n",
        "        self.out = nn.Linear(200, self.vocab_size)\n",
        "\n",
        "\n",
        "    def forward(self, data):  # inputs: [Batch_size, time, vocab_size]\n",
        "        batch = data.shape[0]\n",
        "\n",
        "        # embeddings\n",
        "        pemb = self.pemb(torch.arange(sequence_length)).view(1, sequence_length, self.emb_size) # [time, emb_size]\n",
        "        wemb = self.wemb(data)        # [Batch_size, time, emb_size]\n",
        "\n",
        "        embeddings = wemb + pemb\n",
        "\n",
        "        # attention\n",
        "        k = self.keys(embeddings)     # [Batch_size, time, head_size]\n",
        "        q = self.queries(embeddings)  # [Batch_size, time, head_size]\n",
        "        v = self.values(embeddings)   # [Batch_size, time, head_size]\n",
        "\n",
        "        similarity = k @ q.transpose(-2, -1)/(self.head_size**0.5)\n",
        "        similarity = torch.tril(similarity)  # [Batch_size, time, time]\n",
        "        similarity[similarity == 0] = float(\"-inf\")\n",
        "        similarity = torch.softmax(similarity, dim = 1)\n",
        "        attention = similarity @ v    # [Batch_size, time, head_size]\n",
        "\n",
        "        # linear\n",
        "        x = attention.view(batch, sequence_length*self.head_size)\n",
        "\n",
        "        x = F.gelu(self.fc1(x))\n",
        "        x = self.LayerNorm1(x)\n",
        "        x = F.gelu(self.fc2(x))\n",
        "        x = self.LayerNorm2(x)\n",
        "        x = self.out(x)\n",
        "\n",
        "        return x\n",
        "\n",
        "\n",
        "Net = Model().to(device)\n",
        "lossi = []\n",
        "print(\"Millions of parameters: \", round(sum(p.numel() for p in Net.parameters() if p.requires_grad)/1000000, 2))"
      ],
      "metadata": {
        "colab": {
          "base_uri": "https://localhost:8080/"
        },
        "id": "uFgYBnvsN7gL",
        "outputId": "80c08fcb-a031-4352-ae12-d01ad65ffcc5"
      },
      "execution_count": 48,
      "outputs": [
        {
          "output_type": "stream",
          "name": "stdout",
          "text": [
            "Millions of parameters:  0.14\n"
          ]
        }
      ]
    },
    {
      "cell_type": "code",
      "source": [
        "epochs = 10000\n",
        "batch_size = 64\n",
        "print(\"Percent of dataset: \", epochs*batch_size / X.shape[0])\n",
        "\n",
        "optimizer = torch.optim.Adam(Net.parameters(), lr=3e-4)\n",
        "\n",
        "for epoch in range(epochs):\n",
        "    indexes = torch.randint(X.shape[0], (batch_size, ))\n",
        "\n",
        "    pred = Net(X[indexes])\n",
        "    loss = F.cross_entropy(pred, y[indexes])\n",
        "    lossi.append(loss.item())\n",
        "\n",
        "    loss.backward()\n",
        "    optimizer.step()\n",
        "    optimizer.zero_grad()\n"
      ],
      "metadata": {
        "id": "y9l7mQjGXvi_",
        "colab": {
          "base_uri": "https://localhost:8080/"
        },
        "outputId": "118ffe5c-1e19-41ca-8f67-94fc9817979e"
      },
      "execution_count": 34,
      "outputs": [
        {
          "output_type": "stream",
          "name": "stdout",
          "text": [
            "Percent of dataset:  3.9040339650954965\n"
          ]
        }
      ]
    },
    {
      "cell_type": "code",
      "source": [
        "plt.plot(lossi)"
      ],
      "metadata": {
        "colab": {
          "base_uri": "https://localhost:8080/",
          "height": 447
        },
        "id": "-NyBckuBZG_6",
        "outputId": "31bf416a-04e8-4ebd-b41d-628d0c3f422d"
      },
      "execution_count": 35,
      "outputs": [
        {
          "output_type": "execute_result",
          "data": {
            "text/plain": [
              "[<matplotlib.lines.Line2D at 0x7d988c3fe950>]"
            ]
          },
          "metadata": {},
          "execution_count": 35
        },
        {
          "output_type": "display_data",
          "data": {
            "text/plain": [
              "<Figure size 640x480 with 1 Axes>"
            ],
            "image/png": "[encoded data removed]"
          },
          "metadata": {}
        }
      ]
    },
    {
      "cell_type": "code",
      "source": [
        "torch.tensor(lossi[-100:]).mean() # Best: 1.54 / 1.66"
      ],
      "metadata": {
        "colab": {
          "base_uri": "https://localhost:8080/"
        },
        "id": "oHZbCKLwbzCq",
        "outputId": "3fd2da3f-7384-44d3-dba3-731075e0a8b3"
      },
      "execution_count": 36,
      "outputs": [
        {
          "output_type": "execute_result",
          "data": {
            "text/plain": [
              "tensor(1.4213)"
            ]
          },
          "metadata": {},
          "execution_count": 36
        }
      ]
    },
    {
      "cell_type": "code",
      "source": [
        "# LAYERNORM IS CRAZY IMPORTANT"
      ],
      "metadata": {
        "id": "YNCIn4KHmITi"
      },
      "execution_count": 37,
      "outputs": []
    },
    {
      "cell_type": "code",
      "source": [
        "prompt = \"hi, how are you? I'm fine, \"\n",
        "\n",
        "for i in range(100):\n",
        "    ints = torch.tensor([texttoint[elm] for elm in prompt[-sequence_length:]])\n",
        "    prompt += inttotext[Net(ints.view(1, -1)).argmax().item()]"
      ],
      "metadata": {
        "id": "7ARnfMT2T-QI"
      },
      "execution_count": 38,
      "outputs": []
    },
    {
      "cell_type": "code",
      "source": [
        "prompt"
      ],
      "metadata": {
        "colab": {
          "base_uri": "https://localhost:8080/",
          "height": 35
        },
        "id": "AAZ4anF-UbTJ",
        "outputId": "11266a94-22ca-4102-dc9a-8432ada4992b"
      },
      "execution_count": 39,
      "outputs": [
        {
          "output_type": "execute_result",
          "data": {
            "text/plain": [
              "\"hi, how are you? I'm fine, I should be and the the to the court, and the thing to herself and the the to the court, and the thi\""
            ],
            "application/vnd.google.colaboratory.intrinsic+json": {
              "type": "string"
            }
          },
          "metadata": {},
          "execution_count": 39
        }
      ]
    },
    {
      "cell_type": "code",
      "source": [],
      "metadata": {
        "id": "SYtMl1RFVRmw"
      },
      "execution_count": 39,
      "outputs": []
    }
  ]
}